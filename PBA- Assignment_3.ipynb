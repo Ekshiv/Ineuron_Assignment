{
 "cells": [
  {
   "cell_type": "markdown",
   "id": "a51e613d",
   "metadata": {},
   "source": [
    "#### 1. Why are functions advantageous to have in your programs?\n",
    "\n",
    "Ans- Program must have user-defined functions as it helps in:\n",
    "* Organization -- As programs grow in complexity, having all the code live inside the main() function becomes increasingly complicated. A function is almost like a mini-program that we can write separately from the main program, without having to think about the rest of the program while we write it. This allows us to reduce a complicated program into smaller, more manageable chunks, which reduces the overall complexity of our program.\n",
    "\n",
    "* Reusability -- Once a function is written, it can be called multiple times from within the program. This avoids duplicated code (“Don’t Repeat Yourself”) and minimizes the probability of copy/paste errors. Functions can also be shared with other programs, reducing the amount of code that has to be written from scratch (and retested) each time.\n",
    "\n",
    "* Testing -- Because functions reduce code redundancy, there’s less code to test in the first place. Also because functions are self-contained, once we’ve tested a function to ensure it works, we don’t need to test it again unless we change it. This reduces the amount of code we have to test at one time, making it much easier to find bugs (or avoid them in the first place).\n",
    "\n",
    "* Extensibility -- When we need to extend our program to handle a case it didn’t handle before, functions allow us to make the change in one place and have that change take effect every time the function is called.\n",
    "\n",
    "* Abstraction -- In order to use a function, you only need to know its name, inputs, outputs, and where it lives. You don’t need to know how it works, or what other code it’s dependent upon to use it. This lowers the amount of knowledge required to use other people’s code (including everything in the standard library).\n"
   ]
  },
  {
   "cell_type": "markdown",
   "id": "0f73ea0b",
   "metadata": {},
   "source": [
    "#### 2. When does the code in a function run: when it's specified or when it's called? \n",
    "\n",
    "Ans- Code in a function runs when it is called.\n"
   ]
  },
  {
   "cell_type": "code",
   "execution_count": null,
   "id": "5fc26881",
   "metadata": {},
   "outputs": [],
   "source": [
    "#### 3. What statement creates a function?\n",
    "\n",
    "Ans- Function is created by: \n",
    "    \n",
    "def func_name():\n",
    "    .\n",
    "    .\n",
    "    func_body\n",
    "    .\n",
    "    .\n"
   ]
  },
  {
   "cell_type": "markdown",
   "id": "b9b5bf7c",
   "metadata": {},
   "source": [
    "#### 4. What is the difference between a function and a function call?"
   ]
  },
  {
   "cell_type": "code",
   "execution_count": null,
   "id": "c59c1026",
   "metadata": {},
   "outputs": [],
   "source": [
    "Ans-\n",
    "\n",
    "Function- It is a piece of code which can be used again and again.\n",
    "\n",
    "function call - It is the proccess of using that defined function where it is called or written\n",
    "\n",
    "Example:\n",
    "    \n",
    "def greeting():\n",
    "    name = input(\"What is your good name sir ?\")\n",
    "    print(\"hello !! welcome to pythonworld\")\n",
    "    print(f\"Mr.{name}\")\n",
    "\n",
    "OUTPUT:\n",
    "\n",
    "What is your good name sir ?Shivam Singh\n",
    "hello !! welcome to pythonworld\n",
    "Mr.Shivam Singh\n",
    "\n",
    "\n",
    "        "
   ]
  },
  {
   "cell_type": "markdown",
   "id": "37ea5034",
   "metadata": {},
   "source": [
    "##### 5. How many global scopes are there in a Python program? How many local scopes?\n",
    "\n",
    "Ans- A program has only one global scopes i.e. scope of a module and as many as local scopes as user can define any function. Scope inside every function is a unique local scope and  other than function whatever space is called as global scope"
   ]
  },
  {
   "cell_type": "markdown",
   "id": "0fe75c66",
   "metadata": {},
   "source": [
    "#### 6. What happens to variables in a local scope when the function call returns?\n",
    "\n",
    "Ans- A local variable retains its value until the next time the function is called. A local variable becomes undefined after the function call completes. The local variable can be used outside the function any time after the function call completes."
   ]
  },
  {
   "cell_type": "markdown",
   "id": "ca2cdf13",
   "metadata": {},
   "source": [
    "#### 7. What is the concept of a return value? Is it possible to have a return value in an expression?\n",
    "\n",
    "Ans- A return statement is used to end the execution of the function call and “returns” the result (value of the expression following the return keyword) to the caller. The statements after the return statements are not executed. If the return statement is without any expression, then the special value None is returned. \n",
    "\n",
    "Yes, its possible to have a return value in an expression.\n"
   ]
  },
  {
   "cell_type": "markdown",
   "id": "3e723a8a",
   "metadata": {},
   "source": [
    "#### 8. If a function does not have a return statement, what is the return value of a call to that function?\n",
    "\n",
    "Ans- Function always return None, if explicitly return statement is not written. And this none can be override by the result of operation occuring inside function."
   ]
  },
  {
   "cell_type": "markdown",
   "id": "af70c2e6",
   "metadata": {},
   "source": [
    "#### 9. How do you make a function variable refer to the global variable?"
   ]
  },
  {
   "cell_type": "code",
   "execution_count": null,
   "id": "5dc9f49a",
   "metadata": {},
   "outputs": [],
   "source": [
    "Ans- User can refer function variable to the global variable y using global keyword.\n",
    "\n",
    "Example: \n",
    "    a = 'global'\n",
    "    def scope_var():\n",
    "        global a\n",
    "        a = 'local'\n",
    "    \n",
    "    print(a)            # checking value of \"a\" before calling function \n",
    "    scope_var()\n",
    "    print(a)            # checking value of \"a\" after calling function\n",
    "\n",
    "    OUTPUT: global\n",
    "            local"
   ]
  },
  {
   "cell_type": "markdown",
   "id": "6d615697",
   "metadata": {},
   "source": [
    "#### 10. What is the data type of None?\n",
    "\n",
    "Ans-  The None keyword is used to define a null value, or no value at all. None is not the same as 0, False, or an empty string. None is a data type of its own (NoneType) and only None can be None."
   ]
  },
  {
   "cell_type": "markdown",
   "id": "93a5d74e",
   "metadata": {},
   "source": [
    "#### 11. What does the sentence import areallyourpetsnamederic do?\n",
    "\n",
    "Ans- That import statement imports a module named areallyourpetsnamederic. (This isn’t a real Python module, by the way.)\n",
    "\n"
   ]
  },
  {
   "cell_type": "markdown",
   "id": "627df6d1",
   "metadata": {},
   "source": [
    "#### 12. If you had a bacon() feature in a spam module, what would you call it after importing spam?\n",
    "\n",
    "Ans- It can be called : spam.bacon()"
   ]
  },
  {
   "cell_type": "markdown",
   "id": "197e90a5",
   "metadata": {},
   "source": [
    "#### 13. What can you do to save a programme from crashing if it encounters an error?\n",
    "\n",
    "Ans- To save a programme from crashing if it encounters an error, we can enclose that piece of code in try clause, and a handler in except clause to handle the error that might happen. "
   ]
  },
  {
   "cell_type": "markdown",
   "id": "f4b0803e",
   "metadata": {},
   "source": [
    "#### 14. What is the purpose of the try clause? What is the purpose of the except clause?\n",
    "\n",
    "Ans- Code that could potentially cause an error goes in try clause where except clause act as a handler in which code will be executed if error occurs."
   ]
  }
 ],
 "metadata": {
  "kernelspec": {
   "display_name": "Python 3 (ipykernel)",
   "language": "python",
   "name": "python3"
  },
  "language_info": {
   "codemirror_mode": {
    "name": "ipython",
    "version": 3
   },
   "file_extension": ".py",
   "mimetype": "text/x-python",
   "name": "python",
   "nbconvert_exporter": "python",
   "pygments_lexer": "ipython3",
   "version": "3.9.7"
  }
 },
 "nbformat": 4,
 "nbformat_minor": 5
}

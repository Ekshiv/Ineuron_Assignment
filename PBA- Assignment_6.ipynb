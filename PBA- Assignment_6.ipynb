{
 "cells": [
  {
   "cell_type": "markdown",
   "id": "58b4b6b5",
   "metadata": {},
   "source": [
    "#### 1. What are escape characters, and how do you use them?\n",
    "\n",
    "Ans- \n",
    "* An escape sequence is a special character used in the form of backslash(\\) followed by a character that is required. \n",
    "* These characters are used to represent whitespace. Whitespace gives characters like space, tab, formfeed, vertical tab.\n",
    "    \n",
    "    Example:- \"My name is \\nShivam Singh\" (Here I used \\n-means newline i.e. Shivam Singh will apper in new line when executed) "
   ]
  },
  {
   "cell_type": "markdown",
   "id": "02c4585b",
   "metadata": {},
   "source": [
    "#### 2. What do the escape characters n and t stand for?\n",
    "\n",
    "Ans- \\n stands for newline and \\t stands for tab"
   ]
  },
  {
   "cell_type": "markdown",
   "id": "5acee06e",
   "metadata": {},
   "source": [
    "#### 3. What is the way to include backslash characters in a string?\n"
   ]
  },
  {
   "cell_type": "code",
   "execution_count": null,
   "id": "54aaff99",
   "metadata": {},
   "outputs": [],
   "source": [
    "Ans-  \\\\ escape character represnts backslash in string"
   ]
  },
  {
   "cell_type": "markdown",
   "id": "79236312",
   "metadata": {},
   "source": [
    "#### 4. The string \"Howl's Moving Castle\" is a correct value. Why isn't the single quote character in the word Howl's not escaped a problem?"
   ]
  },
  {
   "cell_type": "markdown",
   "id": "dcc383f9",
   "metadata": {},
   "source": [
    "Ans- Since \"Howl's Moving Castle\" is double quoted and in python value enclosed either within \" \" or ' ' are treated as string. Thus, python interpreter didnt get confuse and single quote charater in Howl's does not create any problem"
   ]
  },
  {
   "cell_type": "markdown",
   "id": "7c8002f5",
   "metadata": {},
   "source": [
    "#### 5. How do you write a string of newlines if you don't want to use the n character?\n",
    "\n",
    "Ans- Multiline string results in newline even without using \\n character "
   ]
  },
  {
   "cell_type": "markdown",
   "id": "197de1f1",
   "metadata": {},
   "source": [
    "#### 6. What do the following expressions evaluate to?\n",
    "\n",
    "* 'Hello, world!'[1]\n",
    "* 'Hello, world!'[0:5]\n",
    "* 'Hello, world!'[:5]\n",
    "* 'Hello, world!'[3:]\n",
    "\n",
    "Ans- \n",
    "* 'e'\n",
    "* 'Hello'\n",
    "* 'Hello'\n",
    "* 'lo, world'"
   ]
  },
  {
   "cell_type": "markdown",
   "id": "8766a456",
   "metadata": {},
   "source": [
    "#### 7. What do the following expressions evaluate to?\n",
    "\n",
    "* 'Hello'.upper()\n",
    "* 'Hello'.upper().isupper()\n",
    "* 'Hello'.upper().lower()\n",
    "\n",
    "Ans- \n",
    "* 'HELLO'\n",
    "* True\n",
    "* 'hello'"
   ]
  },
  {
   "cell_type": "markdown",
   "id": "db0f8f48",
   "metadata": {},
   "source": [
    "#### 8. What do the following expressions evaluate to?\n"
   ]
  },
  {
   "cell_type": "markdown",
   "id": "8991d355",
   "metadata": {},
   "source": [
    "* 'Remember, remember, the fifth of July.'.split()\n",
    "* '-'.join('There can be only one.'.split())\n",
    "\n",
    "Ans- Evaluation of each expression:\n",
    "        \n",
    "        * ['Remember,', 'remember,', 'the', 'fifth', 'of', 'July.']\n",
    "        * 'There-can-be-only-one.'"
   ]
  },
  {
   "cell_type": "markdown",
   "id": "d1d777b4",
   "metadata": {},
   "source": [
    "#### 9. What are the methods for right-justifying, left-justifying, and centering a string?\n",
    "\n",
    "Ans- The rjust(), ljust(), and center() string methods, respectively. Justifying text is aligning the text left, right or center, depending on your preferences or needs for a certain application. Below is the example:"
   ]
  },
  {
   "cell_type": "code",
   "execution_count": null,
   "id": "72f95950",
   "metadata": {},
   "outputs": [],
   "source": [
    "'Python'.ljust(20, '+')\n",
    "'Python++++++++++++++'\n",
    " \n",
    "'Python'.rjust(20, '+')\n",
    "'++++++++++++++Python'\n",
    "\n",
    "'Python'.center(20, '+')\n",
    "'+++++++Python+++++++'\n"
   ]
  },
  {
   "cell_type": "markdown",
   "id": "61b9dfb2",
   "metadata": {},
   "source": [
    "#### 10. What is the best way to remove whitespace characters from the start or end?\n",
    "\n",
    "Ans- lstrip(), strip(), rstrip() are in-built methods that are best way to remove all whitespace chararcter from start or end."
   ]
  }
 ],
 "metadata": {
  "kernelspec": {
   "display_name": "Python 3 (ipykernel)",
   "language": "python",
   "name": "python3"
  },
  "language_info": {
   "codemirror_mode": {
    "name": "ipython",
    "version": 3
   },
   "file_extension": ".py",
   "mimetype": "text/x-python",
   "name": "python",
   "nbconvert_exporter": "python",
   "pygments_lexer": "ipython3",
   "version": "3.9.7"
  }
 },
 "nbformat": 4,
 "nbformat_minor": 5
}

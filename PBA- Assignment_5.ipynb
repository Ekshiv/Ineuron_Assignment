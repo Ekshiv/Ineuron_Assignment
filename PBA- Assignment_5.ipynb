{
 "cells": [
  {
   "cell_type": "markdown",
   "id": "54580ad1",
   "metadata": {},
   "source": [
    "#### 1. What does an empty dictionary's code look like?\n"
   ]
  },
  {
   "cell_type": "markdown",
   "id": "70c0613d",
   "metadata": {},
   "source": [
    "Ans- It looks like this : {}"
   ]
  },
  {
   "cell_type": "markdown",
   "id": "f70ceac0",
   "metadata": {},
   "source": [
    "#### 2. What is the value of a dictionary value with the key \"foo\" and the value 42?\n",
    "\n",
    "Ans- \n",
    "    \n",
    "    dic = { 'foo' : 42}"
   ]
  },
  {
   "cell_type": "markdown",
   "id": "e4d62d53",
   "metadata": {},
   "source": [
    "#### 3. What is the most significant distinction between a dictionary and a list?\n",
    "\n",
    "Ans- Dictionary is unordered data type while list is ordered data type. Dictionary takes input in form of key:value fashion."
   ]
  },
  {
   "cell_type": "markdown",
   "id": "28ac134d",
   "metadata": {},
   "source": [
    "#### 4. What happens if you try to access spam[\"foo\"] if spam is {\"bar\" : 100} ?\n",
    "\n",
    "Ans- It generates keyerror error as no such key exist in spam dictionary. "
   ]
  },
  {
   "cell_type": "markdown",
   "id": "2d2ea9d7",
   "metadata": {},
   "source": [
    "#### 5. If a dictionary is stored in spam, what is the difference between the expressions \"cat\" in spam and \"cat\" in spam.keys()?\n",
    "\n",
    "Ans- \"cat\" in spam and \"cat\" in spam.keys() will check for the same thing i.e. whether is there any key named as \"cat\""
   ]
  },
  {
   "cell_type": "markdown",
   "id": "a16317de",
   "metadata": {},
   "source": [
    "#### 6. If a dictionary is stored in spam, what is the difference between the expressions 'cat' in spam and 'cat' in spam.values() ?\n",
    "\n",
    "Ans- 'cat' in spam will check for key named 'cat' in spam dictionary while 'cat' in spam.values() will check whether there is any value as 'cat' in spam dictionary."
   ]
  },
  {
   "cell_type": "markdown",
   "id": "adf542be",
   "metadata": {},
   "source": [
    "#### 7. What is a shortcut for the following code?\n",
    "\n",
    "code:"
   ]
  },
  {
   "cell_type": "code",
   "execution_count": null,
   "id": "4a434351",
   "metadata": {},
   "outputs": [],
   "source": [
    "if 'color' not in spam:\n",
    "spam['color'] = 'black'\n",
    "\n",
    "Ans- Simple as :\n",
    "    spam['color'] = 'black'\n",
    "    .\n",
    "    .\n",
    "    or\n",
    "    .\n",
    "    .\n",
    "    spam.setdefault('color':\"black\")"
   ]
  },
  {
   "cell_type": "markdown",
   "id": "36dc619e",
   "metadata": {},
   "source": [
    "#### 8. How do you 'pretty print' dictionary values using which module and function?\n",
    "\n",
    "Ans- We can pretty print by using pprint() of pprint module (i.e. pprint.pprint()) which allows more viable/readable dictionary output."
   ]
  },
  {
   "cell_type": "code",
   "execution_count": 106,
   "id": "a7e97bf0",
   "metadata": {},
   "outputs": [
    {
     "name": "stdout",
     "output_type": "stream",
     "text": [
      "[{'age': 24, 'gender': 'male', 'name': 'Shivam'},\n",
      " {'age': 30, 'gender': 'male', 'name': 'Ashish'},\n",
      " {'age': 22, 'gender': 'female', 'name': 'Sakshi'},\n",
      " {'age': 21, 'gender': 'female', 'name': 'Urimla'}]\n"
     ]
    }
   ],
   "source": [
    "import pprint\n",
    "dict_arr = [{'name':'Shivam', 'age':24, 'gender': 'male'},\n",
    "             {'name':'Ashish', 'age':30, 'gender': 'male'},\n",
    "             {'name':'Sakshi', 'age':22, 'gender': 'female'},\n",
    "             {'name':'Urimla', 'age':21, 'gender': 'female'}\n",
    "            ]\n",
    "pprint.pprint(dict_arr)"
   ]
  },
  {
   "cell_type": "code",
   "execution_count": 107,
   "id": "c9897de6",
   "metadata": {},
   "outputs": [
    {
     "name": "stdout",
     "output_type": "stream",
     "text": [
      "[{'name': 'Shivam', 'age': 24, 'gender': 'male'}, {'name': 'Ashish', 'age': 30, 'gender': 'male'}, {'name': 'Sakshi', 'age': 22, 'gender': 'female'}, {'name': 'Urimla', 'age': 21, 'gender': 'female'}]\n"
     ]
    }
   ],
   "source": [
    "print(dict_arr)   # difference in result can be cleary visible wrt readability of dictionary"
   ]
  },
  {
   "cell_type": "code",
   "execution_count": null,
   "id": "6dcb6626",
   "metadata": {},
   "outputs": [],
   "source": []
  },
  {
   "cell_type": "code",
   "execution_count": null,
   "id": "ec056c20",
   "metadata": {},
   "outputs": [],
   "source": []
  },
  {
   "cell_type": "code",
   "execution_count": 89,
   "id": "d8bd0323",
   "metadata": {},
   "outputs": [],
   "source": [
    "spam = {\"bar\" : 100}"
   ]
  },
  {
   "cell_type": "code",
   "execution_count": 96,
   "id": "88930dc1",
   "metadata": {},
   "outputs": [],
   "source": [
    "spam['color']='black'"
   ]
  },
  {
   "cell_type": "code",
   "execution_count": 97,
   "id": "999f5550",
   "metadata": {},
   "outputs": [
    {
     "data": {
      "text/plain": [
       "{'bar': 100, 'color': 'black'}"
      ]
     },
     "execution_count": 97,
     "metadata": {},
     "output_type": "execute_result"
    }
   ],
   "source": [
    "spam"
   ]
  },
  {
   "cell_type": "code",
   "execution_count": 102,
   "id": "9a39ffe7",
   "metadata": {},
   "outputs": [
    {
     "data": {
      "text/plain": [
       "'black'"
      ]
     },
     "execution_count": 102,
     "metadata": {},
     "output_type": "execute_result"
    }
   ],
   "source": [
    "spam.setdefault('color', \"black\")"
   ]
  },
  {
   "cell_type": "code",
   "execution_count": 103,
   "id": "86b1f533",
   "metadata": {},
   "outputs": [
    {
     "data": {
      "text/plain": [
       "{'bar': 100, 'color': 'black'}"
      ]
     },
     "execution_count": 103,
     "metadata": {},
     "output_type": "execute_result"
    }
   ],
   "source": [
    "spam"
   ]
  },
  {
   "cell_type": "code",
   "execution_count": 92,
   "id": "fe6d72a5",
   "metadata": {},
   "outputs": [
    {
     "data": {
      "text/plain": [
       "True"
      ]
     },
     "execution_count": 92,
     "metadata": {},
     "output_type": "execute_result"
    }
   ],
   "source": [
    "'bar' in spam"
   ]
  },
  {
   "cell_type": "code",
   "execution_count": 94,
   "id": "3a923857",
   "metadata": {},
   "outputs": [
    {
     "data": {
      "text/plain": [
       "True"
      ]
     },
     "execution_count": 94,
     "metadata": {},
     "output_type": "execute_result"
    }
   ],
   "source": [
    "\"bar\" in spam.keys()"
   ]
  },
  {
   "cell_type": "code",
   "execution_count": 95,
   "id": "3d0d7b70",
   "metadata": {},
   "outputs": [
    {
     "data": {
      "text/plain": [
       "False"
      ]
     },
     "execution_count": 95,
     "metadata": {},
     "output_type": "execute_result"
    }
   ],
   "source": [
    "\"bar\" in spam.values()"
   ]
  },
  {
   "cell_type": "code",
   "execution_count": null,
   "id": "2ce398f0",
   "metadata": {},
   "outputs": [],
   "source": []
  }
 ],
 "metadata": {
  "kernelspec": {
   "display_name": "Python 3 (ipykernel)",
   "language": "python",
   "name": "python3"
  },
  "language_info": {
   "codemirror_mode": {
    "name": "ipython",
    "version": 3
   },
   "file_extension": ".py",
   "mimetype": "text/x-python",
   "name": "python",
   "nbconvert_exporter": "python",
   "pygments_lexer": "ipython3",
   "version": "3.9.7"
  }
 },
 "nbformat": 4,
 "nbformat_minor": 5
}

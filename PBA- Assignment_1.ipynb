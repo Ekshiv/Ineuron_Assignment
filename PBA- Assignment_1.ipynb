{
 "cells": [
  {
   "cell_type": "markdown",
   "id": "4de9c028",
   "metadata": {},
   "source": [
    "##### 1. In the below elements which of them are values or an expression? eg:- values can be integer or string and expressions will be mathematical operators.\n",
    "*\n",
    "&#39;hello&#39;\n",
    "-87.8\n",
    "-\n",
    "/\n",
    "+\n",
    "6"
   ]
  },
  {
   "cell_type": "markdown",
   "id": "11bc9f4d",
   "metadata": {},
   "source": [
    "Ans- Expression are {*,-,/,+,6} and Values are 'hello', -87.8\n"
   ]
  },
  {
   "cell_type": "markdown",
   "id": "a74ee65a",
   "metadata": {},
   "source": [
    "#### 2. What is the difference between string and variable?\n",
    " \n",
    "Ans- Variable is a storage location and are of various data types. String is data type which represent group of character enclosed within \"\" or ''. Example- X = 'Shivam', here X is a varibale that is storing string type and that string is 'shivam'."
   ]
  },
  {
   "cell_type": "markdown",
   "id": "7cbe3806",
   "metadata": {},
   "source": [
    "#### 3.Describe three different data types.\n",
    "\n",
    "Ans- 3 data types are Numeric, Sequence types and boolean"
   ]
  },
  {
   "cell_type": "markdown",
   "id": "a8241e8b",
   "metadata": {},
   "source": [
    "#### 4. What is an expression made up of? What do all expressions do?\n",
    "\n",
    "Ans- An expression is a combination of operators and operands that is interpreted to produce single value.\n",
    "\n",
    "#### 5.This assignment statements, like spam = 10. What is the difference between an expression and a statement?\n",
    "\n",
    "Ans- An Expression always evaluates to a value while a statement does something, like creating a variable or displaying a value, it only does whatever the statement says. In short, every expression is a statement but every statement is not an expession. Here spam = 10 is expression and statement both.\n",
    "\n",
    "#### 6.6. After running the following code, what does the variable bacon contain?\n",
    "bacon = 22\n",
    "bacon + 1\n",
    "\n",
    "Ans- bacon =  23\n",
    "\n",
    "#### 7. What should the values of the following two terms be?\n",
    "'spam' + 'spamspam'\n",
    "'spam*3'\n",
    "\n",
    "Ans- 'spam'+'spamspam' = 'spamspamspam' and 'spam*3' = 'spam*3'\n",
    "\n",
    "#### 8. 8. Why is eggs a valid variable name while 100 is invalid?\n",
    "\n",
    "Ans- Variable name can only be start from  undeerscore(_) cahracter or letter.  A variable name cannot start with a number. Thus 100 is invalid variable."
   ]
  },
  {
   "cell_type": "code",
   "execution_count": null,
   "id": "e8eaf245",
   "metadata": {},
   "outputs": [],
   "source": []
  }
 ],
 "metadata": {
  "kernelspec": {
   "display_name": "Python 3 (ipykernel)",
   "language": "python",
   "name": "python3"
  },
  "language_info": {
   "codemirror_mode": {
    "name": "ipython",
    "version": 3
   },
   "file_extension": ".py",
   "mimetype": "text/x-python",
   "name": "python",
   "nbconvert_exporter": "python",
   "pygments_lexer": "ipython3",
   "version": "3.9.7"
  }
 },
 "nbformat": 4,
 "nbformat_minor": 5
}

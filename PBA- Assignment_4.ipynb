{
 "cells": [
  {
   "cell_type": "markdown",
   "id": "45ebfaae",
   "metadata": {},
   "source": [
    "##### 1. What exactly is [] ?\n",
    "\n",
    "Ans- In python, this means an empty list i.e. list with no value."
   ]
  },
  {
   "cell_type": "markdown",
   "id": "37df5e0e",
   "metadata": {},
   "source": [
    "#### 2. In a list of values stored in a variable called spam, how would you assign the value 'hello' as the third value? (Assume [2, 4, 6, 8, 10] are in spam). Let&#39;s pretend the spam includes the list ['a','b','c','d'] for the next three queries.\n",
    "\n",
    "Ans- A/c to question, spam[2] = 'hello', will assign \"hello\" as 3rd value. (Note: Indexing starts from zero(0) thats why [2] and not [3]). "
   ]
  },
  {
   "cell_type": "markdown",
   "id": "e270307b",
   "metadata": {},
   "source": [
    "#### 3. What is the value of spam[int(int( '3' * 2) / 11)]?\n",
    " \n",
    "Ans- Value will be 'd' but lets break it and understand how ?\n",
    "\n",
    "    step_1:- '3'*2      = '33' (string format)\n",
    "    step_2:- int('33')  = 33   (integer format)\n",
    "    step_3:- int(33/11) = 3    (integer format, if it is not enclosed in int() then it would give float type)\n",
    "    step_4:- spam[3]    = 'd'  (since in above question: Let's pretend the spam includes the list ['a','b','c','d'] for the next three queries.)\n",
    "                            "
   ]
  },
  {
   "cell_type": "markdown",
   "id": "59329283",
   "metadata": {},
   "source": [
    "#### 4. What is the value of spam[-1]?\n",
    "\n",
    "Ans- Value of spam[-1] = 'd'. Since indexing occur as both (context to spam=['a','b','c','d'])  [0]->[1]->[2]->[3] and [-4] <- [-3] <- [-2] <- [-1]"
   ]
  },
  {
   "cell_type": "markdown",
   "id": "914aa954",
   "metadata": {},
   "source": [
    "#### 5. What is the value of spam[:2]?\n",
    "\n",
    "Ans- spam[:2] results in  ['a', 'b']. Since list[start : end-1 : step], so spam[:2] means spam[0:2] which means [spam[0], spam[1]].\n",
    "(Note: end point goes till (end-1) )"
   ]
  },
  {
   "cell_type": "markdown",
   "id": "c862a388",
   "metadata": {},
   "source": [
    "#### Let's pretend bacon has the list [3.14,'cat', 11, 'cat', True] for the next three questions. \n",
    "#### 6. What is the value of bacon.index('cat')?"
   ]
  },
  {
   "cell_type": "markdown",
   "id": "469c8cc8",
   "metadata": {},
   "source": [
    "Ans- The value of bacon.index('cat') will be 1. Since built-in function index() gives the index of first occurence of the observation."
   ]
  },
  {
   "cell_type": "markdown",
   "id": "3cfe7e69",
   "metadata": {},
   "source": [
    "#### 7. How does bacon.append(99) change the look of the list value in bacon?\n",
    "\n",
    "Ans- After executing bacon.append(99) the list looks like [3.14, 'cat', 11, 'cat', True, 99]"
   ]
  },
  {
   "cell_type": "markdown",
   "id": "8c732647",
   "metadata": {},
   "source": [
    "#### 8. How does bacon.remove(\"cat\") change the look of the list in bacon?\n",
    "\n",
    "Ans- After executing bacon.remove('cat'), the list looks like [3.14, 11, 'cat', True, 99]. (Note: Only the first occurence of 'cat' is removed from list bacon). "
   ]
  },
  {
   "cell_type": "markdown",
   "id": "3f408b5d",
   "metadata": {},
   "source": [
    "#### 9. What are the list concatenation and list replication operators ?\n",
    "\n",
    "Ans- List concatenation operator is + and list replication is * .\n",
    "\n",
    "* Example:\n",
    "    \n",
    "    * bacon = [3.14,'cat', 11, 'cat', True] and spam = ['a', 'b', 'c', 'd'] . \n",
    "            \n",
    "            So, bacon + spam = [3.14, 11, 'cat', True, 99, 'a', 'b', 'c', 'd']\n",
    "    \n",
    "    * bacon * 2 = [3.14, 11, 'cat', True, 99, 3.14, 11, 'cat', True, 99]"
   ]
  },
  {
   "cell_type": "markdown",
   "id": "26933bc4",
   "metadata": {},
   "source": [
    "#### 10. What is difference between the list methods append() and insert()?\n",
    "\n",
    "Ans- \n",
    "* append() method appends object to the end of the list.\n",
    "* insert() method will insert object before specified index (i.e. anywhere in the list)."
   ]
  },
  {
   "cell_type": "markdown",
   "id": "81c43cdd",
   "metadata": {},
   "source": [
    "#### 11. What are the two methods for removing items from a list?\n",
    "\n",
    "Ans- pop() and remove() are the 2 methods to remove items from the list.(Note: clear() will remove all the item in the list)"
   ]
  },
  {
   "cell_type": "markdown",
   "id": "258933bf",
   "metadata": {},
   "source": [
    "#### 12. Describe how list values and string values are identical.\n",
    "\n",
    "Ans- Both string and list are indexed data type so there values can be sliced, parsed, and can be iterated. Both follow concatenation and replication of values and as well as 'in' and 'not in' reserved keywords can be utilise. "
   ]
  },
  {
   "cell_type": "markdown",
   "id": "ae53bae4",
   "metadata": {},
   "source": [
    "#### 13. What's the difference between tuples and lists?\n",
    "\n",
    "Ans- Lists are mutable in nature but tuple are not i.e. we can't add or remove or change values in tuples. Tuples uses () to defined and list uses [].\n",
    "\n",
    "    Example:\n",
    "    * l = [1,2,3,\"Shiva\"]\n",
    "    * t = (1,2,3,\"Shivam\")\n"
   ]
  },
  {
   "cell_type": "markdown",
   "id": "150b46fb",
   "metadata": {},
   "source": [
    "#### 14. How do you type a tuple value that only contains the integer 42?\n",
    "\n",
    "Ans- tu = (42,) , trailing comma is required or it is treated as int type not tuple."
   ]
  },
  {
   "cell_type": "markdown",
   "id": "e0d9ceaa",
   "metadata": {},
   "source": [
    "#### 15. How do you get a list value's tuple form? How do you get a tuple value's list form?\n",
    "\n",
    "Ans- In python, we can change type by type casting, using constructor like list() and tuple().\n"
   ]
  },
  {
   "cell_type": "markdown",
   "id": "b1317d95",
   "metadata": {},
   "source": [
    "#### 16. Variables that \"contain\" list values are not necessarily lists themselves. Instead, what do they contain?\n",
    "\n",
    "Ans- Variables will contain references to list values rather than list values themselves. But for strings and integer values, variables simply contain the string or integer value."
   ]
  },
  {
   "cell_type": "code",
   "execution_count": 44,
   "id": "a6452f7c",
   "metadata": {},
   "outputs": [
    {
     "data": {
      "text/plain": [
       "2250602839744"
      ]
     },
     "execution_count": 44,
     "metadata": {},
     "output_type": "execute_result"
    }
   ],
   "source": [
    "#Example:- \n",
    "spam = [1,2,3,4]  \n",
    "bacon = spam\n",
    "spam[1] = \"Shiv\"\n",
    "id(spam)"
   ]
  },
  {
   "cell_type": "code",
   "execution_count": 49,
   "id": "bd1f861a",
   "metadata": {},
   "outputs": [
    {
     "data": {
      "text/plain": [
       "2250602839744"
      ]
     },
     "execution_count": 49,
     "metadata": {},
     "output_type": "execute_result"
    }
   ],
   "source": [
    "id(bacon)"
   ]
  },
  {
   "cell_type": "code",
   "execution_count": 48,
   "id": "34169c44",
   "metadata": {},
   "outputs": [
    {
     "data": {
      "text/plain": [
       "[1, 'Shiv', 3, 4]"
      ]
     },
     "execution_count": 48,
     "metadata": {},
     "output_type": "execute_result"
    }
   ],
   "source": [
    "spam"
   ]
  },
  {
   "cell_type": "code",
   "execution_count": 47,
   "id": "c60ade76",
   "metadata": {},
   "outputs": [
    {
     "data": {
      "text/plain": [
       "[1, 'Shiv', 3, 4]"
      ]
     },
     "execution_count": 47,
     "metadata": {},
     "output_type": "execute_result"
    }
   ],
   "source": [
    "bacon"
   ]
  },
  {
   "cell_type": "markdown",
   "id": "e271d3a1",
   "metadata": {},
   "source": [
    "#### 17. How do you distinguish between copy.copy() and copy.deepcopy() ?\n",
    "\n",
    "Ans- \n",
    "    * copy.copy() will make another copy of reference of variables(mutable ony like list or dict) i.e. any changes to copied variable will not effect the original variable.\n",
    "    \n",
    "    * copy.deepcopy() will copy recurcively due to which any changes occur even in nested variable is reflected to original one.\n"
   ]
  },
  {
   "cell_type": "code",
   "execution_count": null,
   "id": "fe97893b",
   "metadata": {},
   "outputs": [],
   "source": [
    "Example:-\n",
    "\n",
    "import copy\n",
    "spam = ['A', 'B', 'C', 'D']\n",
    "cheese = copy.copy(spam)   # shallow copy\n",
    "cheese[1] = 42\n",
    "spam\n",
    "['A', 'B', 'C', 'D']\n",
    "cheese\n",
    "['A', 42, 'C', 'D']"
   ]
  }
 ],
 "metadata": {
  "kernelspec": {
   "display_name": "Python 3 (ipykernel)",
   "language": "python",
   "name": "python3"
  },
  "language_info": {
   "codemirror_mode": {
    "name": "ipython",
    "version": 3
   },
   "file_extension": ".py",
   "mimetype": "text/x-python",
   "name": "python",
   "nbconvert_exporter": "python",
   "pygments_lexer": "ipython3",
   "version": "3.9.7"
  }
 },
 "nbformat": 4,
 "nbformat_minor": 5
}

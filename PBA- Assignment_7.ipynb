{
 "cells": [
  {
   "cell_type": "markdown",
   "id": "dbf69519",
   "metadata": {},
   "source": [
    "#### 1. What is the name of the feature responsible for generating Regex objects?"
   ]
  },
  {
   "cell_type": "markdown",
   "id": "e0b66b9e",
   "metadata": {},
   "source": [
    "Ans - re.compile() is the function that returns Regex object."
   ]
  },
  {
   "cell_type": "markdown",
   "id": "5c94e2fa",
   "metadata": {},
   "source": [
    "#### 2. Why do raw strings often appear in Regex objects?"
   ]
  },
  {
   "cell_type": "markdown",
   "id": "cab15b3c",
   "metadata": {},
   "source": [
    "Ans - Raw strings are used so that backslashes do not have to be escaped."
   ]
  },
  {
   "cell_type": "markdown",
   "id": "c664a40d",
   "metadata": {},
   "source": [
    "#### 3. What is the return value of the search() method?"
   ]
  },
  {
   "cell_type": "markdown",
   "id": "e773a63f",
   "metadata": {},
   "source": [
    "Ans - Raw strings in programming are there to tell python proccessor to treat all characters in string literals as string rather than there respective functionality.\n",
    "__For ex__. backslash(/) or other symbols."
   ]
  },
  {
   "cell_type": "markdown",
   "id": "9b92d9e1",
   "metadata": {},
   "source": [
    "#### 4. From a Match item, how do you get the actual strings that match the pattern?"
   ]
  },
  {
   "cell_type": "markdown",
   "id": "393da3f3",
   "metadata": {},
   "source": [
    "Ans - The group() method returns strings of the matched text."
   ]
  },
  {
   "cell_type": "markdown",
   "id": "139a9d2d",
   "metadata": {},
   "source": [
    "#### 5. In the regex which created from the r&#39;(\\d\\d\\d)-(\\d\\d\\d-\\d\\d\\d\\d)&#39;, what does group zero cover?\n",
    "Group 2? Group 1?"
   ]
  },
  {
   "cell_type": "markdown",
   "id": "e2b12783",
   "metadata": {},
   "source": [
    "Ans-  Group 0 is the entire match, group 1 covers the first set of parentheses, and group 2 covers the second set of parentheses."
   ]
  },
  {
   "cell_type": "markdown",
   "id": "d7388905",
   "metadata": {},
   "source": [
    "#### 6. In standard expression syntax, parentheses and intervals have distinct meanings. How can you tell a regex that you want it to fit real parentheses and periods?"
   ]
  },
  {
   "cell_type": "markdown",
   "id": "c6b5fa95",
   "metadata": {},
   "source": [
    "Ans- Periods and parentheses can be escaped with a backslash: \\., \\(, and \\)."
   ]
  },
  {
   "cell_type": "markdown",
   "id": "64fdc739",
   "metadata": {},
   "source": [
    "#### 7. The findall() method returns a string list or a list of string tuples. What causes it to return one of the two options?"
   ]
  },
  {
   "cell_type": "markdown",
   "id": "f8d65e5c",
   "metadata": {},
   "source": [
    "Ans- If the regex has no groups, a list of strings is returned. If the regex has groups, a list of tuples of strings is returned."
   ]
  },
  {
   "cell_type": "markdown",
   "id": "4d2ef6b2",
   "metadata": {},
   "source": [
    "#### 8. In standard expressions, what does the | character mean?"
   ]
  },
  {
   "cell_type": "markdown",
   "id": "eea297e7",
   "metadata": {},
   "source": [
    "Ans- The | character signifies matching “either, or” between two groups."
   ]
  },
  {
   "cell_type": "markdown",
   "id": "d37ad552",
   "metadata": {},
   "source": [
    "#### 9. In regular expressions, what does the __?__ character stand for ?"
   ]
  },
  {
   "cell_type": "markdown",
   "id": "6d674b53",
   "metadata": {},
   "source": [
    "Ans- The ? character can either mean “match zero or one of the preceding group” or be used to signify non-greedy matching."
   ]
  },
  {
   "cell_type": "markdown",
   "id": "ebb45711",
   "metadata": {},
   "source": [
    "#### 10. In regular expressions, what is the difference between the + and * characters?"
   ]
  },
  {
   "cell_type": "markdown",
   "id": "2bfc464e",
   "metadata": {},
   "source": [
    "Ans- The  __+__  matches one or more. The  __*__  matches zero or more."
   ]
  },
  {
   "cell_type": "markdown",
   "id": "bcdeec20",
   "metadata": {},
   "source": [
    "#### 11. What is the difference between {4} and {4,5} in regular expression?"
   ]
  },
  {
   "cell_type": "markdown",
   "id": "cdac2a7e",
   "metadata": {},
   "source": [
    "Ans-  The {4} matches exactly four instances of the preceding group. The {4,5} matches between four and five instances."
   ]
  },
  {
   "cell_type": "markdown",
   "id": "5b8212dd",
   "metadata": {},
   "source": [
    "#### 12. What do you mean by the \\d, \\w, and \\s shorthand character classes signify in regular expressions?"
   ]
  },
  {
   "cell_type": "markdown",
   "id": "038b468f",
   "metadata": {},
   "source": [
    "Ans- The \\d, \\w, and \\s shorthand character classes match a single digit, word, or space character, respectively."
   ]
  },
  {
   "cell_type": "markdown",
   "id": "7af90d1c",
   "metadata": {},
   "source": [
    "#### 13. What do means by \\D, \\W, and \\S shorthand character classes signify in regular expressions?"
   ]
  },
  {
   "cell_type": "markdown",
   "id": "5327827f",
   "metadata": {},
   "source": [
    "Ans-  The \\D, \\W, and \\S shorthand character classes match a single character that is not a digit, word, or space character, respectively."
   ]
  },
  {
   "cell_type": "markdown",
   "id": "158a99b6",
   "metadata": {},
   "source": [
    "#### 14. What is the difference between .* and .*? "
   ]
  },
  {
   "cell_type": "markdown",
   "id": "4428fcbf",
   "metadata": {},
   "source": [
    "Ans- The .* performs a greedy match, and the .*? performs a non-greedy match."
   ]
  },
  {
   "cell_type": "markdown",
   "id": "546062bd",
   "metadata": {},
   "source": [
    "#### 15. What is the syntax for matching both numbers and lowercase letters with a character class?"
   ]
  },
  {
   "cell_type": "markdown",
   "id": "e3c26f94",
   "metadata": {},
   "source": [
    "Ans- Either [0-9a-z] or [a-z0-9]"
   ]
  },
  {
   "cell_type": "markdown",
   "id": "39b9e242",
   "metadata": {},
   "source": [
    "#### 16. What is the procedure for making a normal expression in regax case insensitive?"
   ]
  },
  {
   "cell_type": "markdown",
   "id": "26474c03",
   "metadata": {},
   "source": [
    "Ans- Passing re.I or re.IGNORECASE as the second argument to re.compile() will make the matching case insensitive."
   ]
  },
  {
   "cell_type": "markdown",
   "id": "4afb368c",
   "metadata": {},
   "source": [
    "#### 17. What does the . character normally match? What does it match if re.DOTALL is passed as 2nd argument in re.compile()?"
   ]
  },
  {
   "cell_type": "markdown",
   "id": "6238361c",
   "metadata": {},
   "source": [
    "Ans- The . character normally matches any character except the newline character. If re.DOTALL is passed as the second argument to re.compile(), then the dot will also match newline characters."
   ]
  },
  {
   "cell_type": "markdown",
   "id": "030730e1",
   "metadata": {},
   "source": [
    "#### 18. If numReg = re.compile(r'\\d+'), what will numRegex.sub('X', '11 drummers, 10 pipers, five rings, 4 hen') return?"
   ]
  },
  {
   "cell_type": "markdown",
   "id": "c877ac57",
   "metadata": {},
   "source": [
    "Ans- The sub() call will return the string 'X drummers, X pipers, five rings, X hens'."
   ]
  },
  {
   "cell_type": "markdown",
   "id": "bb862655",
   "metadata": {},
   "source": [
    "#### 19. What does passing re.VERBOSE as the 2nd argument to re.compile() allow to do?"
   ]
  },
  {
   "cell_type": "markdown",
   "id": "73d14be1",
   "metadata": {},
   "source": [
    "Ans-  The re.VERBOSE argument allows you to add whitespace and comments to the string passed to re.compile()."
   ]
  },
  {
   "cell_type": "markdown",
   "id": "0fb5c323",
   "metadata": {},
   "source": [
    "#### 20. How would you write a regex that match a number with comma for every three digits? It must\n",
    "__match the given following:\n",
    "&#39;42&#39;\n",
    "&#39;1,234&#39;\n",
    "&#39;6,368,745&#39;\n",
    "but not the following:\n",
    "&#39;12,34,567&#39; (which has only two digits between the commas)\n",
    "&#39;1234&#39; (which lacks commas)__"
   ]
  },
  {
   "cell_type": "markdown",
   "id": "736feca1",
   "metadata": {},
   "source": [
    "Ans- re.compile(r'^\\d{1,3}(,\\d{3})*$') will create this regex, but other regex strings can produce a similar regular expression"
   ]
  },
  {
   "cell_type": "markdown",
   "id": "c75adffa",
   "metadata": {},
   "source": [
    "#### 21. How would you write a regex that matches the full name of someone whose last name is\n",
    "__Watanabe? You can assume that the first name that comes before it will always be one word that\n",
    "begins with a capital letter. The regex must match the following:\n",
    "&#39;Haruto Watanabe&#39;\n",
    "&#39;Alice Watanabe&#39;\n",
    "&#39;RoboCop Watanabe&#39;\n",
    "but not the following:\n",
    "&#39;haruto Watanabe&#39; (where the first name is not capitalized)\n",
    "&#39;Mr. Watanabe&#39; (where the preceding word has a nonletter character)\n",
    "&#39;Watanabe&#39; (which has no first name)\n",
    "&#39;Haruto watanabe&#39; (where Watanabe is not capitalized)__"
   ]
  },
  {
   "cell_type": "markdown",
   "id": "9c86bea0",
   "metadata": {},
   "source": [
    "Ans- re.compile(r'[A-Z][a-z]*\\sWatanabe')"
   ]
  },
  {
   "cell_type": "markdown",
   "id": "b9fc17f5",
   "metadata": {},
   "source": [
    "22. How would you write a regex that matches a sentence where the first word is either Alice, Bob,\n",
    "__or Carol; the second word is either eats, pets, or throws; the third word is apples, cats, or baseballs;\n",
    "and the sentence ends with a period? This regex should be case-insensitive. It must match the\n",
    "following:\n",
    "&#39;Alice eats apples.&#39;\n",
    "&#39;Bob pets cats.&#39;\n",
    "&#39;Carol throws baseballs.&#39;\n",
    "&#39;Alice throws Apples.&#39;\n",
    "&#39;BOB EATS CATS.&#39;\n",
    "but not the following:\n",
    "&#39;RoboCop eats apples.&#39;\n",
    "&#39;ALICE THROWS FOOTBALLS.&#39;\n",
    "&#39;Carol eats 7 cats.&#39;__"
   ]
  },
  {
   "cell_type": "markdown",
   "id": "c8df3f60",
   "metadata": {},
   "source": [
    "Ans- re.compile(r'(Alice|Bob|Carol)\\s(eats|pets|throws)\\s(apples|cats|baseballs)\\.', re.IGNORECASE)"
   ]
  },
  {
   "cell_type": "markdown",
   "id": "e15bfc80",
   "metadata": {},
   "source": []
  },
  {
   "cell_type": "markdown",
   "id": "83b3c55a",
   "metadata": {},
   "source": []
  }
 ],
 "metadata": {
  "kernelspec": {
   "display_name": "Python 3 (ipykernel)",
   "language": "python",
   "name": "python3"
  },
  "language_info": {
   "codemirror_mode": {
    "name": "ipython",
    "version": 3
   },
   "file_extension": ".py",
   "mimetype": "text/x-python",
   "name": "python",
   "nbconvert_exporter": "python",
   "pygments_lexer": "ipython3",
   "version": "3.9.7"
  }
 },
 "nbformat": 4,
 "nbformat_minor": 5
}
